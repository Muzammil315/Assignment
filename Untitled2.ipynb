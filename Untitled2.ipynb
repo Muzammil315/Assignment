{
 "cells": [
  {
   "cell_type": "code",
   "execution_count": 1,
   "metadata": {},
   "outputs": [
    {
     "name": "stdout",
     "output_type": "stream",
     "text": [
      "Twinkle, Twinkle, little star, \n",
      "\tHow I wonder what you are! \n",
      "\tUp above the world so high, \n",
      "\tLike a dimond in the sky.\n",
      "Twinkle, Twinkle, little star,\n",
      "\tHow I wonder what you are!\n"
     ]
    }
   ],
   "source": [
    "print(\"Twinkle, Twinkle, little star, \\n\\tHow I wonder what you are! \\n\\tUp above the world so high, \\n\\tLike a dimond in the sky.\\nTwinkle, Twinkle, little star,\\n\\tHow I wonder what you are!\")"
   ]
  },
  {
   "cell_type": "code",
   "execution_count": 2,
   "metadata": {},
   "outputs": [
    {
     "name": "stdout",
     "output_type": "stream",
     "text": [
      "Python version\n",
      "3.7.4 (default, Aug  9 2019, 18:34:13) [MSC v.1915 64 bit (AMD64)]\n"
     ]
    }
   ],
   "source": [
    "import sys\n",
    "print(\"Python version\")\n",
    "print(sys.version)"
   ]
  },
  {
   "cell_type": "code",
   "execution_count": 3,
   "metadata": {},
   "outputs": [
    {
     "name": "stdout",
     "output_type": "stream",
     "text": [
      "current datr and time : \n",
      "2019-49-11/02/19 19:49:26\n"
     ]
    }
   ],
   "source": [
    "import datetime\n",
    "now = datetime.datetime.now()\n",
    "print (\"current datr and time : \")\n",
    "print (now.strftime(\"%Y-%M-%D %H:%M:%S\"))"
   ]
  },
  {
   "cell_type": "code",
   "execution_count": 4,
   "metadata": {},
   "outputs": [
    {
     "name": "stdout",
     "output_type": "stream",
     "text": [
      "Enter the radius of circle:2\n",
      "Area of a Circle is 12.56\n"
     ]
    }
   ],
   "source": [
    "r = float (input(\"Enter the radius of circle:\"))\n",
    "pi = 3.14\n",
    "area = pi * r**2\n",
    "print(\"Area of a Circle is\", area)"
   ]
  },
  {
   "cell_type": "code",
   "execution_count": 6,
   "metadata": {},
   "outputs": [
    {
     "name": "stdout",
     "output_type": "stream",
     "text": [
      "Hussain Musammil\n"
     ]
    }
   ],
   "source": [
    "firstname = \"Musammil\"\n",
    "lastname = \"Hussain\"\n",
    "print(lastname+ \" \" +firstname)"
   ]
  },
  {
   "cell_type": "code",
   "execution_count": 7,
   "metadata": {},
   "outputs": [
    {
     "name": "stdout",
     "output_type": "stream",
     "text": [
      "Enter value one5\n",
      "Enter value two3\n",
      "8\n"
     ]
    }
   ],
   "source": [
    "x = int(input(\"Enter value one\"))\n",
    "y = int(input(\"Enter value two\"))\n",
    "z = x + y\n",
    "print(z)"
   ]
  },
  {
   "cell_type": "code",
   "execution_count": null,
   "metadata": {},
   "outputs": [],
   "source": []
  }
 ],
 "metadata": {
  "kernelspec": {
   "display_name": "Python 3",
   "language": "python",
   "name": "python3"
  },
  "language_info": {
   "codemirror_mode": {
    "name": "ipython",
    "version": 3
   },
   "file_extension": ".py",
   "mimetype": "text/x-python",
   "name": "python",
   "nbconvert_exporter": "python",
   "pygments_lexer": "ipython3",
   "version": "3.7.4"
  }
 },
 "nbformat": 4,
 "nbformat_minor": 2
}
